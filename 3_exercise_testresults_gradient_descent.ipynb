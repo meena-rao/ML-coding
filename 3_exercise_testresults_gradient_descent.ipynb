{
 "cells": [
  {
   "cell_type": "markdown",
   "id": "84656644",
   "metadata": {},
   "source": [
    "##### Come up with a linear function for given test results using gradient descent)\n",
    "#### Reference - Exercise qn of codebasics youtube"
   ]
  },
  {
   "cell_type": "code",
   "execution_count": 1,
   "id": "2f707153",
   "metadata": {},
   "outputs": [],
   "source": [
    "import numpy as np\n",
    "import pandas as pd\n",
    "from sklearn.linear_model import LinearRegression\n",
    "import math"
   ]
  },
  {
   "cell_type": "code",
   "execution_count": 2,
   "id": "fd823d61",
   "metadata": {},
   "outputs": [
    {
     "data": {
      "text/html": [
       "<div>\n",
       "<style scoped>\n",
       "    .dataframe tbody tr th:only-of-type {\n",
       "        vertical-align: middle;\n",
       "    }\n",
       "\n",
       "    .dataframe tbody tr th {\n",
       "        vertical-align: top;\n",
       "    }\n",
       "\n",
       "    .dataframe thead th {\n",
       "        text-align: right;\n",
       "    }\n",
       "</style>\n",
       "<table border=\"1\" class=\"dataframe\">\n",
       "  <thead>\n",
       "    <tr style=\"text-align: right;\">\n",
       "      <th></th>\n",
       "      <th>name</th>\n",
       "      <th>math</th>\n",
       "      <th>cs</th>\n",
       "    </tr>\n",
       "  </thead>\n",
       "  <tbody>\n",
       "    <tr>\n",
       "      <th>0</th>\n",
       "      <td>david</td>\n",
       "      <td>92</td>\n",
       "      <td>98</td>\n",
       "    </tr>\n",
       "    <tr>\n",
       "      <th>1</th>\n",
       "      <td>laura</td>\n",
       "      <td>56</td>\n",
       "      <td>68</td>\n",
       "    </tr>\n",
       "    <tr>\n",
       "      <th>2</th>\n",
       "      <td>sanjay</td>\n",
       "      <td>88</td>\n",
       "      <td>81</td>\n",
       "    </tr>\n",
       "    <tr>\n",
       "      <th>3</th>\n",
       "      <td>wei</td>\n",
       "      <td>70</td>\n",
       "      <td>80</td>\n",
       "    </tr>\n",
       "    <tr>\n",
       "      <th>4</th>\n",
       "      <td>jeff</td>\n",
       "      <td>80</td>\n",
       "      <td>83</td>\n",
       "    </tr>\n",
       "    <tr>\n",
       "      <th>5</th>\n",
       "      <td>aamir</td>\n",
       "      <td>49</td>\n",
       "      <td>52</td>\n",
       "    </tr>\n",
       "    <tr>\n",
       "      <th>6</th>\n",
       "      <td>venkat</td>\n",
       "      <td>65</td>\n",
       "      <td>66</td>\n",
       "    </tr>\n",
       "    <tr>\n",
       "      <th>7</th>\n",
       "      <td>virat</td>\n",
       "      <td>35</td>\n",
       "      <td>30</td>\n",
       "    </tr>\n",
       "    <tr>\n",
       "      <th>8</th>\n",
       "      <td>arthur</td>\n",
       "      <td>66</td>\n",
       "      <td>68</td>\n",
       "    </tr>\n",
       "    <tr>\n",
       "      <th>9</th>\n",
       "      <td>paul</td>\n",
       "      <td>67</td>\n",
       "      <td>73</td>\n",
       "    </tr>\n",
       "  </tbody>\n",
       "</table>\n",
       "</div>"
      ],
      "text/plain": [
       "     name  math  cs\n",
       "0   david    92  98\n",
       "1   laura    56  68\n",
       "2  sanjay    88  81\n",
       "3     wei    70  80\n",
       "4    jeff    80  83\n",
       "5   aamir    49  52\n",
       "6  venkat    65  66\n",
       "7   virat    35  30\n",
       "8  arthur    66  68\n",
       "9    paul    67  73"
      ]
     },
     "execution_count": 2,
     "metadata": {},
     "output_type": "execute_result"
    }
   ],
   "source": [
    "df = pd.read_csv(\"3_exercise_testresults_gradient_descent.csv\")\n",
    "df"
   ]
  },
  {
   "cell_type": "markdown",
   "id": "d5c1afba",
   "metadata": {},
   "source": [
    "#### linear regression eqn. is y= mx+b. Consider here 'math' column as 'x' and 'cs' column as 'y'. we need to find corelation betwen these two subjects."
   ]
  },
  {
   "cell_type": "markdown",
   "id": "2f2c5fac",
   "metadata": {},
   "source": [
    "#### Define function 'gradient_descent()'' to find best fit line and hence value of coefficient 'm' and slope 'b'. As iterations are happening, 'cost' need to reduce and almost at the end when we reach global minima, there will not be any changes, at that point we can select 'm' and 'b'.  And cost is least. To get this point, fine tuning 'learning rate' is required. Same time tune 'iterations count' to some high value."
   ]
  },
  {
   "cell_type": "code",
   "execution_count": 35,
   "id": "de6533a7",
   "metadata": {
    "scrolled": true
   },
   "outputs": [
    {
     "name": "stdout",
     "output_type": "stream",
     "text": [
      "From LinearRegression model : m= [1.01773624],  b= 1.9152193111569318   \n"
     ]
    }
   ],
   "source": [
    "#First we predict m and b using sklearn linear regression model\n",
    "def predict_from_LinearReg():\n",
    "    ob = LinearRegression()\n",
    "    ob.fit(df[['math']], df['cs'])\n",
    "    return ob.coef_, ob.intercept_\n",
    "\n",
    "m, b = predict_from_LinearReg()"
   ]
  },
  {
   "cell_type": "code",
   "execution_count": 36,
   "id": "2ff5a974",
   "metadata": {},
   "outputs": [],
   "source": [
    "def GD(x, y):\n",
    "    \n",
    "    learning_rate = 0.0002\n",
    "    m_curr = b_curr = 0\n",
    "    iterations = 1000000\n",
    "    n = len(x)\n",
    "    cost_previous = 0\n",
    "    \n",
    "    for i in range(iterations):\n",
    "        yp = m_curr * x + b_curr\n",
    "        \n",
    "        #derivatives\n",
    "        md = -(2/n) * sum( x * (y - yp))\n",
    "        bd =  -(2/n) * sum(y - yp)\n",
    "        \n",
    "        m_curr = m_curr - learning_rate * md\n",
    "        b_curr = b_curr - learning_rate * bd\n",
    "        \n",
    "        cost = (1/n) * sum( [val ** 2 for val in (y - yp)])\n",
    "        \n",
    "        if math.isclose(cost, cost_previous, rel_tol=1e-20):\n",
    "            break\n",
    "        cost_previous = cost\n",
    "        #print(\"m {},   b {},  cost {},   iterations {} \". format(m_curr, b_curr, cost, i))\n",
    "    return m_curr, b_curr     "
   ]
  },
  {
   "cell_type": "code",
   "execution_count": 37,
   "id": "19f84739",
   "metadata": {},
   "outputs": [],
   "source": [
    "x = np.array(df.math)\n",
    "y = np.array(df.cs)\n",
    "m, b = GD(x,y)"
   ]
  },
  {
   "cell_type": "code",
   "execution_count": 39,
   "id": "18b2c020",
   "metadata": {
    "scrolled": true
   },
   "outputs": [
    {
     "name": "stdout",
     "output_type": "stream",
     "text": [
      "From LinearRegression model : m= 1.0177381667350405,  b= 1.9150826165722297   \n",
      "From GCD function;  m = 1.0177381667350405,  b = 1.9150826165722297 \n"
     ]
    }
   ],
   "source": [
    "print(\"From LinearRegression model : m= {},  b= {}   \".format(m,b))\n",
    "print(\"From GCD function;  m = {},  b = {} \". format(m,b))"
   ]
  },
  {
   "cell_type": "code",
   "execution_count": 41,
   "id": "f1417013",
   "metadata": {},
   "outputs": [
    {
     "data": {
      "text/plain": [
       "array([95.54695319])"
      ]
     },
     "execution_count": 41,
     "metadata": {},
     "output_type": "execute_result"
    }
   ],
   "source": [
    "#prediction can be made if math marks is given.\n",
    "ob.predict([[92]])"
   ]
  }
 ],
 "metadata": {
  "kernelspec": {
   "display_name": "Python 3",
   "language": "python",
   "name": "python3"
  },
  "language_info": {
   "codemirror_mode": {
    "name": "ipython",
    "version": 3
   },
   "file_extension": ".py",
   "mimetype": "text/x-python",
   "name": "python",
   "nbconvert_exporter": "python",
   "pygments_lexer": "ipython3",
   "version": "3.8.10"
  }
 },
 "nbformat": 4,
 "nbformat_minor": 5
}
