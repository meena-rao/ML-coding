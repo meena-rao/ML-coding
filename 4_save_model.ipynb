{
 "cells": [
  {
   "cell_type": "code",
   "execution_count": 33,
   "id": "0ae19df1",
   "metadata": {},
   "outputs": [],
   "source": [
    "import numpy as np\n",
    "import pandas as pd\n",
    "from sklearn.linear_model import LinearRegression"
   ]
  },
  {
   "cell_type": "code",
   "execution_count": 53,
   "id": "daacc6e7",
   "metadata": {},
   "outputs": [],
   "source": [
    "x = np.array([1,2,3,4])\n",
    "y = np.array([2,4,9,16])"
   ]
  },
  {
   "cell_type": "code",
   "execution_count": 54,
   "id": "58276c5d",
   "metadata": {},
   "outputs": [
    {
     "data": {
      "text/plain": [
       "LinearRegression()"
      ]
     },
     "execution_count": 54,
     "metadata": {},
     "output_type": "execute_result"
    }
   ],
   "source": [
    "model = LinearRegression()\n",
    "\n",
    "x = x.reshape(-1, 1)\n",
    "model.fit(x, y)\n",
    "\n",
    "# if reshape not done then we get erroe : \n",
    "#ValueError: Expected 2D array, got 1D array instead: array=[1 2 3 4].\n",
    "#Reshape your data either using array.reshape(-1, 1) if your data has a single feature or \n",
    "#array.reshape(1, -1) if it contains a single sample."
   ]
  },
  {
   "cell_type": "code",
   "execution_count": 61,
   "id": "35d2e46b",
   "metadata": {},
   "outputs": [
    {
     "name": "stdout",
     "output_type": "stream",
     "text": [
      "m = [4.7],  b= -4.0   \n"
     ]
    }
   ],
   "source": [
    "print(\"m = {},  b= {}   \".format(model.coef_, model.intercept_))"
   ]
  },
  {
   "cell_type": "code",
   "execution_count": 58,
   "id": "6122cd8b",
   "metadata": {},
   "outputs": [
    {
     "data": {
      "text/plain": [
       "array([5.4])"
      ]
     },
     "execution_count": 58,
     "metadata": {},
     "output_type": "execute_result"
    }
   ],
   "source": [
    "model.predict([[2]])"
   ]
  },
  {
   "cell_type": "markdown",
   "id": "aa888094",
   "metadata": {},
   "source": [
    "####  SAVE MODEL\n",
    "#####  two options- one with pickle.dump() and another with joblib.dump(). Later one is efficient when too many numpy structures are present"
   ]
  },
  {
   "cell_type": "code",
   "execution_count": 62,
   "id": "8b08870c",
   "metadata": {},
   "outputs": [],
   "source": [
    "import pickle as p\n",
    "with open('model_pickle_file', 'wb') as f:\n",
    "    p.dump(model, f)"
   ]
  },
  {
   "cell_type": "code",
   "execution_count": 67,
   "id": "cb65f430",
   "metadata": {},
   "outputs": [
    {
     "data": {
      "text/plain": [
       "array([5.4])"
      ]
     },
     "execution_count": 67,
     "metadata": {},
     "output_type": "execute_result"
    }
   ],
   "source": [
    "with open('model_pickle_file', 'rb') as f:\n",
    "    mod = p.load(f)\n",
    "mod.predict([[2]])"
   ]
  },
  {
   "cell_type": "code",
   "execution_count": 70,
   "id": "d358c1a7",
   "metadata": {},
   "outputs": [
    {
     "data": {
      "text/plain": [
       "['model_file_joblib']"
      ]
     },
     "execution_count": 70,
     "metadata": {},
     "output_type": "execute_result"
    }
   ],
   "source": [
    "#from sklearn.externals import joblib\n",
    "import joblib\n",
    "joblib.dump(model, 'model_file_joblib')"
   ]
  },
  {
   "cell_type": "code",
   "execution_count": 74,
   "id": "b945b074",
   "metadata": {},
   "outputs": [],
   "source": [
    "jm = joblib.load(\"model_file_joblib\")"
   ]
  },
  {
   "cell_type": "code",
   "execution_count": 75,
   "id": "4862651b",
   "metadata": {},
   "outputs": [
    {
     "data": {
      "text/plain": [
       "array([5.4])"
      ]
     },
     "execution_count": 75,
     "metadata": {},
     "output_type": "execute_result"
    }
   ],
   "source": [
    "jm.predict([[2]])"
   ]
  }
 ],
 "metadata": {
  "kernelspec": {
   "display_name": "Python 3",
   "language": "python",
   "name": "python3"
  },
  "language_info": {
   "codemirror_mode": {
    "name": "ipython",
    "version": 3
   },
   "file_extension": ".py",
   "mimetype": "text/x-python",
   "name": "python",
   "nbconvert_exporter": "python",
   "pygments_lexer": "ipython3",
   "version": "3.8.10"
  }
 },
 "nbformat": 4,
 "nbformat_minor": 5
}
