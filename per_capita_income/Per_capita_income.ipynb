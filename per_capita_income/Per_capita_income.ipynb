{
 "cells": [
  {
   "cell_type": "markdown",
   "id": "18ce078e",
   "metadata": {},
   "source": [
    "#### Task-  Predict canada's per capita income in year 2020 \n",
    "#### Build a regression model and predict "
   ]
  },
  {
   "cell_type": "markdown",
   "id": "8750abf7",
   "metadata": {},
   "source": [
    "#### PCI per Capita Income means Average  income earned per person and calculated as below;\n",
    "####  PCI = total income / population"
   ]
  },
  {
   "cell_type": "code",
   "execution_count": 1,
   "id": "26b79028",
   "metadata": {},
   "outputs": [],
   "source": [
    "import pandas as pd\n",
    "import numpy as np\n",
    "from sklearn import linear_model\n",
    "import matplotlib.pyplot as plt\n",
    "#matplotlib.pyplot is a collection of functions that make matplotlib work like MATLAB."
   ]
  },
  {
   "cell_type": "code",
   "execution_count": 2,
   "id": "bd29590b",
   "metadata": {},
   "outputs": [],
   "source": [
    "df = pd.read_csv('pci_train.csv')"
   ]
  },
  {
   "cell_type": "code",
   "execution_count": 3,
   "id": "a646c300",
   "metadata": {},
   "outputs": [
    {
     "data": {
      "text/html": [
       "<div>\n",
       "<style scoped>\n",
       "    .dataframe tbody tr th:only-of-type {\n",
       "        vertical-align: middle;\n",
       "    }\n",
       "\n",
       "    .dataframe tbody tr th {\n",
       "        vertical-align: top;\n",
       "    }\n",
       "\n",
       "    .dataframe thead th {\n",
       "        text-align: right;\n",
       "    }\n",
       "</style>\n",
       "<table border=\"1\" class=\"dataframe\">\n",
       "  <thead>\n",
       "    <tr style=\"text-align: right;\">\n",
       "      <th></th>\n",
       "      <th>year</th>\n",
       "      <th>per capita income (US$)</th>\n",
       "    </tr>\n",
       "  </thead>\n",
       "  <tbody>\n",
       "    <tr>\n",
       "      <th>0</th>\n",
       "      <td>1970</td>\n",
       "      <td>3399.299037</td>\n",
       "    </tr>\n",
       "    <tr>\n",
       "      <th>1</th>\n",
       "      <td>1971</td>\n",
       "      <td>3768.297935</td>\n",
       "    </tr>\n",
       "  </tbody>\n",
       "</table>\n",
       "</div>"
      ],
      "text/plain": [
       "   year  per capita income (US$)\n",
       "0  1970              3399.299037\n",
       "1  1971              3768.297935"
      ]
     },
     "execution_count": 3,
     "metadata": {},
     "output_type": "execute_result"
    }
   ],
   "source": [
    "df.head(2)"
   ]
  },
  {
   "cell_type": "code",
   "execution_count": 4,
   "id": "653d6d5e",
   "metadata": {},
   "outputs": [
    {
     "data": {
      "text/plain": [
       "<matplotlib.collections.PathCollection at 0x201ce26f310>"
      ]
     },
     "execution_count": 4,
     "metadata": {},
     "output_type": "execute_result"
    },
    {
     "data": {
      "image/png": "[encoded data removed]",
      "text/plain": [
       "<Figure size 432x288 with 1 Axes>"
      ]
     },
     "metadata": {
      "needs_background": "light"
     },
     "output_type": "display_data"
    }
   ],
   "source": [
    "#visualization\n",
    "%matplotlib inline\n",
    "plt.scatter(df.year, df['per capita income (US$)'])"
   ]
  },
  {
   "cell_type": "code",
   "execution_count": 5,
   "id": "534cefcd",
   "metadata": {},
   "outputs": [],
   "source": [
    "reg_ob = linear_model.LinearRegression()"
   ]
  },
  {
   "cell_type": "code",
   "execution_count": 6,
   "id": "b7dfcb36",
   "metadata": {},
   "outputs": [
    {
     "data": {
      "text/plain": [
       "LinearRegression()"
      ]
     },
     "execution_count": 6,
     "metadata": {},
     "output_type": "execute_result"
    }
   ],
   "source": [
    "reg_ob.fit(df[['year']], df['per capita income (US$)'])"
   ]
  },
  {
   "cell_type": "code",
   "execution_count": 7,
   "id": "2b979562",
   "metadata": {},
   "outputs": [
    {
     "name": "stdout",
     "output_type": "stream",
     "text": [
      "slope m= [828.46507522]\n",
      " intercept  b= -1632210.7578554575\n"
     ]
    }
   ],
   "source": [
    "# y = mx + b\n",
    "# print m (gradient/slope/coeffiecient) and b(slope)\n",
    "print(\"slope m=\", reg_ob.coef_)\n",
    "print(' intercept  b=', reg_ob.intercept_)"
   ]
  },
  {
   "cell_type": "code",
   "execution_count": 8,
   "id": "e59b6ded",
   "metadata": {},
   "outputs": [
    {
     "data": {
      "text/plain": [
       "[<matplotlib.lines.Line2D at 0x201cea134f0>]"
      ]
     },
     "execution_count": 8,
     "metadata": {},
     "output_type": "execute_result"
    },
    {
     "data": {
      "image/png": "[encoded data removed]",
      "text/plain": [
       "<Figure size 432x288 with 1 Axes>"
      ]
     },
     "metadata": {
      "needs_background": "light"
     },
     "output_type": "display_data"
    }
   ],
   "source": [
    "%matplotlib inline\n",
    "plt.xlabel(\"year\")\n",
    "plt.ylabel(\"per capita income in US$\")\n",
    "plt.scatter(df.year, df['per capita income (US$)'], color = 'red', marker = '*')\n",
    "plt.plot(df.year, reg_ob.predict(df[['year']]))"
   ]
  },
  {
   "cell_type": "code",
   "execution_count": 9,
   "id": "f07dac4b",
   "metadata": {},
   "outputs": [
    {
     "data": {
      "text/plain": [
       "array([693.9054085])"
      ]
     },
     "execution_count": 9,
     "metadata": {},
     "output_type": "execute_result"
    }
   ],
   "source": [
    "reg_ob.predict([[1971]])"
   ]
  },
  {
   "cell_type": "code",
   "execution_count": 10,
   "id": "df393285",
   "metadata": {},
   "outputs": [
    {
     "name": "stdout",
     "output_type": "stream",
     "text": [
      "PCI at 2020 is  [41288.69409442]\n"
     ]
    }
   ],
   "source": [
    "PCI_2020 = reg_ob.predict([[2020]])\n",
    "print('PCI at 2020 is ', PCI_2020)"
   ]
  }
 ],
 "metadata": {
  "kernelspec": {
   "display_name": "Python 3",
   "language": "python",
   "name": "python3"
  },
  "language_info": {
   "codemirror_mode": {
    "name": "ipython",
    "version": 3
   },
   "file_extension": ".py",
   "mimetype": "text/x-python",
   "name": "python",
   "nbconvert_exporter": "python",
   "pygments_lexer": "ipython3",
   "version": "3.8.10"
  }
 },
 "nbformat": 4,
 "nbformat_minor": 5
}
